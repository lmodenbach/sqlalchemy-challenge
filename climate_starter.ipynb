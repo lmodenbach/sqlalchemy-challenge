{
 "cells": [
  {
   "cell_type": "code",
   "execution_count": 1,
   "metadata": {},
   "outputs": [],
   "source": [
    "# necessary imports\n",
    "\n",
    "%matplotlib inline\n",
    "from matplotlib import style\n",
    "style.use('fivethirtyeight')\n",
    "import matplotlib.pyplot as plt\n",
    "import numpy as np\n",
    "import pandas as pd\n",
    "import datetime as dt\n",
    "import sqlalchemy\n",
    "from sqlalchemy.ext.automap import automap_base\n",
    "from sqlalchemy.orm import Session\n",
    "from sqlalchemy import create_engine, func, inspect"
   ]
  },
  {
   "cell_type": "markdown",
   "metadata": {},
   "source": [
    "# Reflect Tables into SQLAlchemy ORM"
   ]
  },
  {
   "cell_type": "code",
   "execution_count": 2,
   "metadata": {},
   "outputs": [],
   "source": [
    "engine = create_engine(\"sqlite:///Resources/hawaii.sqlite\")"
   ]
  },
  {
   "cell_type": "code",
   "execution_count": 3,
   "metadata": {},
   "outputs": [],
   "source": [
    "# reflect an existing database into a new model\n",
    "\n",
    "Base = automap_base()\n",
    "\n",
    "# reflect the tables\n",
    "\n",
    "Base.prepare(engine, reflect=True)"
   ]
  },
  {
   "cell_type": "code",
   "execution_count": 4,
   "metadata": {},
   "outputs": [
    {
     "data": {
      "text/plain": [
       "['measurement', 'station']"
      ]
     },
     "execution_count": 4,
     "metadata": {},
     "output_type": "execute_result"
    }
   ],
   "source": [
    "# We can view all of the classes that automap found\n",
    "\n",
    "Base.classes.keys()"
   ]
  },
  {
   "cell_type": "code",
   "execution_count": 5,
   "metadata": {},
   "outputs": [],
   "source": [
    "# Save references to each table\n",
    "\n",
    "Measurement = Base.classes.measurement\n",
    "Station = Base.classes.station"
   ]
  },
  {
   "cell_type": "code",
   "execution_count": 6,
   "metadata": {},
   "outputs": [],
   "source": [
    "# Create our session (link) from Python to the DB\n",
    "\n",
    "session = Session(engine)"
   ]
  },
  {
   "cell_type": "markdown",
   "metadata": {},
   "source": [
    "# Exploratory Climate Analysis"
   ]
  },
  {
   "cell_type": "code",
   "execution_count": 7,
   "metadata": {},
   "outputs": [],
   "source": [
    "# Design a query to retrieve the last 12 months of precipitation data and plot the results"
   ]
  },
  {
   "cell_type": "code",
   "execution_count": 8,
   "metadata": {},
   "outputs": [],
   "source": [
    "# Calculate the date 1 year ago from the last data point in the database\n",
    "\n",
    "previous = dt.date(2017, 8, 23) - dt.timedelta(days=365)"
   ]
  },
  {
   "cell_type": "code",
   "execution_count": 9,
   "metadata": {},
   "outputs": [],
   "source": [
    "# Perform a query to retrieve the date and precipitation scores\n",
    "\n",
    "results = session.query(Measurement.date, Measurement.prcp).\\\n",
    "        filter(Measurement.date >= previous).all()"
   ]
  },
  {
   "cell_type": "code",
   "execution_count": 10,
   "metadata": {},
   "outputs": [
    {
     "data": {
      "text/html": [
       "<div>\n",
       "<style scoped>\n",
       "    .dataframe tbody tr th:only-of-type {\n",
       "        vertical-align: middle;\n",
       "    }\n",
       "\n",
       "    .dataframe tbody tr th {\n",
       "        vertical-align: top;\n",
       "    }\n",
       "\n",
       "    .dataframe thead th {\n",
       "        text-align: right;\n",
       "    }\n",
       "</style>\n",
       "<table border=\"1\" class=\"dataframe\">\n",
       "  <thead>\n",
       "    <tr style=\"text-align: right;\">\n",
       "      <th></th>\n",
       "      <th>precipitation</th>\n",
       "    </tr>\n",
       "    <tr>\n",
       "      <th>date</th>\n",
       "      <th></th>\n",
       "    </tr>\n",
       "  </thead>\n",
       "  <tbody>\n",
       "    <tr>\n",
       "      <th>2016-08-23</th>\n",
       "      <td>0.00</td>\n",
       "    </tr>\n",
       "    <tr>\n",
       "      <th>2016-08-24</th>\n",
       "      <td>0.08</td>\n",
       "    </tr>\n",
       "    <tr>\n",
       "      <th>2016-08-25</th>\n",
       "      <td>0.08</td>\n",
       "    </tr>\n",
       "    <tr>\n",
       "      <th>2016-08-26</th>\n",
       "      <td>0.00</td>\n",
       "    </tr>\n",
       "    <tr>\n",
       "      <th>2016-08-27</th>\n",
       "      <td>0.00</td>\n",
       "    </tr>\n",
       "  </tbody>\n",
       "</table>\n",
       "</div>"
      ],
      "text/plain": [
       "            precipitation\n",
       "date                     \n",
       "2016-08-23           0.00\n",
       "2016-08-24           0.08\n",
       "2016-08-25           0.08\n",
       "2016-08-26           0.00\n",
       "2016-08-27           0.00"
      ]
     },
     "execution_count": 10,
     "metadata": {},
     "output_type": "execute_result"
    }
   ],
   "source": [
    "# Save the query results as a Pandas DataFrame and set the index to the date column\n",
    "\n",
    "resultsDF = pd.DataFrame(results, columns=['date', 'precipitation'])\n",
    "resultsDF.set_index('date', inplace=True)\n",
    "resultsDF.head()"
   ]
  },
  {
   "cell_type": "code",
   "execution_count": 11,
   "metadata": {},
   "outputs": [],
   "source": [
    "# Sort the dataframe by date\n",
    "\n",
    "resultsDF.sort_values('date', inplace=True)"
   ]
  },
  {
   "cell_type": "code",
   "execution_count": 12,
   "metadata": {},
   "outputs": [
    {
     "data": {
      "text/plain": [
       "Text(0, 0.5, 'Inches Precipitation')"
      ]
     },
     "execution_count": 12,
     "metadata": {},
     "output_type": "execute_result"
    },
    {
     "data": {
      "image/png": "[encoded data removed]",
      "text/plain": [
       "<Figure size 432x288 with 1 Axes>"
      ]
     },
     "metadata": {},
     "output_type": "display_data"
    }
   ],
   "source": [
    "# Use Pandas Plotting with Matplotlib to plot the data\n",
    "\n",
    "resultsDF.plot(rot=90)\n",
    "plt.xlabel('Date')\n",
    "plt.ylabel('Inches Precipitation')"
   ]
  },
  {
   "cell_type": "code",
   "execution_count": 13,
   "metadata": {},
   "outputs": [
    {
     "data": {
      "text/html": [
       "<div>\n",
       "<style scoped>\n",
       "    .dataframe tbody tr th:only-of-type {\n",
       "        vertical-align: middle;\n",
       "    }\n",
       "\n",
       "    .dataframe tbody tr th {\n",
       "        vertical-align: top;\n",
       "    }\n",
       "\n",
       "    .dataframe thead th {\n",
       "        text-align: right;\n",
       "    }\n",
       "</style>\n",
       "<table border=\"1\" class=\"dataframe\">\n",
       "  <thead>\n",
       "    <tr style=\"text-align: right;\">\n",
       "      <th></th>\n",
       "      <th>precipitation</th>\n",
       "    </tr>\n",
       "  </thead>\n",
       "  <tbody>\n",
       "    <tr>\n",
       "      <th>count</th>\n",
       "      <td>2021.000000</td>\n",
       "    </tr>\n",
       "    <tr>\n",
       "      <th>mean</th>\n",
       "      <td>0.177279</td>\n",
       "    </tr>\n",
       "    <tr>\n",
       "      <th>std</th>\n",
       "      <td>0.461190</td>\n",
       "    </tr>\n",
       "    <tr>\n",
       "      <th>min</th>\n",
       "      <td>0.000000</td>\n",
       "    </tr>\n",
       "    <tr>\n",
       "      <th>25%</th>\n",
       "      <td>0.000000</td>\n",
       "    </tr>\n",
       "    <tr>\n",
       "      <th>50%</th>\n",
       "      <td>0.020000</td>\n",
       "    </tr>\n",
       "    <tr>\n",
       "      <th>75%</th>\n",
       "      <td>0.130000</td>\n",
       "    </tr>\n",
       "    <tr>\n",
       "      <th>max</th>\n",
       "      <td>6.700000</td>\n",
       "    </tr>\n",
       "  </tbody>\n",
       "</table>\n",
       "</div>"
      ],
      "text/plain": [
       "       precipitation\n",
       "count    2021.000000\n",
       "mean        0.177279\n",
       "std         0.461190\n",
       "min         0.000000\n",
       "25%         0.000000\n",
       "50%         0.020000\n",
       "75%         0.130000\n",
       "max         6.700000"
      ]
     },
     "execution_count": 13,
     "metadata": {},
     "output_type": "execute_result"
    }
   ],
   "source": [
    "# Use Pandas to calcualte the summary statistics for the precipitation data\n",
    "\n",
    "resultsDF.describe()"
   ]
  },
  {
   "cell_type": "code",
   "execution_count": 14,
   "metadata": {},
   "outputs": [
    {
     "data": {
      "text/plain": [
       "[(9)]"
      ]
     },
     "execution_count": 14,
     "metadata": {},
     "output_type": "execute_result"
    }
   ],
   "source": [
    "# Design a query to show how many stations are available in this dataset?\n",
    "\n",
    "stations_count = session.query(func.count(Station.station)).all()\n",
    "stations_count"
   ]
  },
  {
   "cell_type": "code",
   "execution_count": 15,
   "metadata": {},
   "outputs": [
    {
     "data": {
      "text/plain": [
       "[('USC00519281', 2772),\n",
       " ('USC00519397', 2724),\n",
       " ('USC00513117', 2709),\n",
       " ('USC00519523', 2669),\n",
       " ('USC00516128', 2612),\n",
       " ('USC00514830', 2202),\n",
       " ('USC00511918', 1979),\n",
       " ('USC00517948', 1372),\n",
       " ('USC00518838', 511)]"
      ]
     },
     "execution_count": 15,
     "metadata": {},
     "output_type": "execute_result"
    }
   ],
   "source": [
    "# What are the most active stations? (i.e. what stations have the most rows)?\n",
    "# List the stations and the counts in descending order.\n",
    "\n",
    "active_stations = session.query(Measurement.station, func.count(Measurement.station)).\\\n",
    "                  group_by(Measurement.station).order_by(func.count(Measurement.station).desc()).all()\n",
    "active_stations"
   ]
  },
  {
   "cell_type": "code",
   "execution_count": 16,
   "metadata": {},
   "outputs": [],
   "source": [
    "# Using the station id from the previous query, calculate the lowest temperature recorded, \n",
    "# highest temperature recorded, and average temperature of the most active station?"
   ]
  },
  {
   "cell_type": "code",
   "execution_count": 17,
   "metadata": {},
   "outputs": [
    {
     "data": {
      "text/plain": [
       "[(54.0)]"
      ]
     },
     "execution_count": 17,
     "metadata": {},
     "output_type": "execute_result"
    }
   ],
   "source": [
    "# lowest temperature recorded\n",
    "\n",
    "low_temp = session.query(func.min(Measurement.tobs)).\\\n",
    "           filter(Measurement.station == 'USC00519281').all()\n",
    "low_temp"
   ]
  },
  {
   "cell_type": "code",
   "execution_count": 18,
   "metadata": {},
   "outputs": [
    {
     "data": {
      "text/plain": [
       "[(85.0)]"
      ]
     },
     "execution_count": 18,
     "metadata": {},
     "output_type": "execute_result"
    }
   ],
   "source": [
    "# highest temperature recorded\n",
    "\n",
    "high_temp = session.query(func.max(Measurement.tobs)).\\\n",
    "           filter(Measurement.station == 'USC00519281').all()\n",
    "high_temp"
   ]
  },
  {
   "cell_type": "code",
   "execution_count": 19,
   "metadata": {},
   "outputs": [
    {
     "data": {
      "text/plain": [
       "[(71.66378066378067)]"
      ]
     },
     "execution_count": 19,
     "metadata": {},
     "output_type": "execute_result"
    }
   ],
   "source": [
    "# average temperature\n",
    "\n",
    "avg_temp = session.query(func.avg(Measurement.tobs)).\\\n",
    "           filter(Measurement.station == 'USC00519281').all()\n",
    "avg_temp"
   ]
  },
  {
   "cell_type": "code",
   "execution_count": 61,
   "metadata": {},
   "outputs": [
    {
     "data": {
      "image/png": "[encoded data removed]",
      "text/plain": [
       "<Figure size 432x288 with 1 Axes>"
      ]
     },
     "metadata": {},
     "output_type": "display_data"
    }
   ],
   "source": [
    "# Choose the station with the highest number of temperature observations.\n",
    "# Query the last 12 months of temperature observation data for this station and plot the results as a histogram\n",
    "\n",
    "most_temp_stations = session.query(Measurement.station, func.count(Measurement.tobs)).\\\n",
    "                  group_by(Measurement.station).order_by(func.count(Measurement.tobs).desc()).all()\n",
    "\n",
    "past_year_temps = session.query(Measurement.tobs).\\\n",
    "                  filter(Measurement.date >= previous).\\\n",
    "                  filter(Measurement.station == 'USC00519281').all()\n",
    "\n",
    "temps = []\n",
    "for temp in past_year_temps:\n",
    "    temps.append(temp[0])\n",
    "    \n",
    "fig, ax = plt.subplots()\n",
    "ax.hist(temps)\n",
    "plt.xlabel('Temp Measurement', fontsize=12)\n",
    "plt.ylabel('Measurement Frequency', fontsize=12)\n",
    "plt.title('Frequency of Temp Observations For Station #USC00519281, Past 12 Months', fontsize=12)\n",
    "plt.xticks(horizontalalignment='right')\n",
    "plt.savefig(\"Output/FrequencyofTempObservationsHist.png\", bbox_inches='tight')\n",
    "plt.show()"
   ]
  },
  {
   "cell_type": "code",
   "execution_count": 58,
   "metadata": {},
   "outputs": [
    {
     "data": {
      "text/plain": [
       "[(77.0),\n",
       " (77.0),\n",
       " (80.0),\n",
       " (80.0),\n",
       " (75.0),\n",
       " (73.0),\n",
       " (78.0),\n",
       " (77.0),\n",
       " (78.0),\n",
       " (80.0),\n",
       " (80.0),\n",
       " (78.0),\n",
       " (78.0),\n",
       " (78.0),\n",
       " (73.0),\n",
       " (74.0),\n",
       " (80.0),\n",
       " (79.0),\n",
       " (77.0),\n",
       " (80.0),\n",
       " (76.0),\n",
       " (79.0),\n",
       " (75.0),\n",
       " (79.0),\n",
       " (78.0),\n",
       " (79.0),\n",
       " (78.0),\n",
       " (78.0),\n",
       " (76.0),\n",
       " (74.0),\n",
       " (77.0),\n",
       " (78.0),\n",
       " (79.0),\n",
       " (79.0),\n",
       " (77.0),\n",
       " (80.0),\n",
       " (78.0),\n",
       " (78.0),\n",
       " (78.0),\n",
       " (77.0),\n",
       " (79.0),\n",
       " (79.0),\n",
       " (79.0),\n",
       " (79.0),\n",
       " (75.0),\n",
       " (76.0),\n",
       " (73.0),\n",
       " (72.0),\n",
       " (71.0),\n",
       " (77.0),\n",
       " (79.0),\n",
       " (78.0),\n",
       " (79.0),\n",
       " (77.0),\n",
       " (79.0),\n",
       " (77.0),\n",
       " (78.0),\n",
       " (78.0),\n",
       " (78.0),\n",
       " (78.0),\n",
       " (77.0),\n",
       " (74.0),\n",
       " (75.0),\n",
       " (76.0),\n",
       " (73.0),\n",
       " (76.0),\n",
       " (74.0),\n",
       " (77.0),\n",
       " (76.0),\n",
       " (76.0),\n",
       " (74.0),\n",
       " (75.0),\n",
       " (75.0),\n",
       " (75.0),\n",
       " (75.0),\n",
       " (71.0),\n",
       " (63.0),\n",
       " (70.0),\n",
       " (68.0),\n",
       " (67.0),\n",
       " (77.0),\n",
       " (74.0),\n",
       " (77.0),\n",
       " (76.0),\n",
       " (76.0),\n",
       " (75.0),\n",
       " (76.0),\n",
       " (75.0),\n",
       " (73.0),\n",
       " (75.0),\n",
       " (73.0),\n",
       " (75.0),\n",
       " (74.0),\n",
       " (75.0),\n",
       " (74.0),\n",
       " (75.0),\n",
       " (73.0),\n",
       " (75.0),\n",
       " (73.0),\n",
       " (73.0),\n",
       " (74.0),\n",
       " (70.0),\n",
       " (72.0),\n",
       " (70.0),\n",
       " (67.0),\n",
       " (67.0),\n",
       " (69.0),\n",
       " (70.0),\n",
       " (68.0),\n",
       " (69.0),\n",
       " (69.0),\n",
       " (66.0),\n",
       " (65.0),\n",
       " (68.0),\n",
       " (62.0),\n",
       " (75.0),\n",
       " (70.0),\n",
       " (69.0),\n",
       " (76.0),\n",
       " (76.0),\n",
       " (74.0),\n",
       " (73.0),\n",
       " (71.0),\n",
       " (74.0),\n",
       " (74.0),\n",
       " (72.0),\n",
       " (71.0),\n",
       " (72.0),\n",
       " (74.0),\n",
       " (69.0),\n",
       " (67.0),\n",
       " (72.0),\n",
       " (70.0),\n",
       " (64.0),\n",
       " (63.0),\n",
       " (63.0),\n",
       " (62.0),\n",
       " (70.0),\n",
       " (70.0),\n",
       " (62.0),\n",
       " (62.0),\n",
       " (63.0),\n",
       " (65.0),\n",
       " (69.0),\n",
       " (77.0),\n",
       " (70.0),\n",
       " (74.0),\n",
       " (69.0),\n",
       " (72.0),\n",
       " (71.0),\n",
       " (69.0),\n",
       " (71.0),\n",
       " (71.0),\n",
       " (72.0),\n",
       " (72.0),\n",
       " (69.0),\n",
       " (70.0),\n",
       " (66.0),\n",
       " (65.0),\n",
       " (69.0),\n",
       " (68.0),\n",
       " (68.0),\n",
       " (68.0),\n",
       " (59.0),\n",
       " (60.0),\n",
       " (70.0),\n",
       " (73.0),\n",
       " (75.0),\n",
       " (64.0),\n",
       " (59.0),\n",
       " (59.0),\n",
       " (62.0),\n",
       " (68.0),\n",
       " (70.0),\n",
       " (73.0),\n",
       " (79.0),\n",
       " (75.0),\n",
       " (65.0),\n",
       " (70.0),\n",
       " (74.0),\n",
       " (70.0),\n",
       " (70.0),\n",
       " (71.0),\n",
       " (71.0),\n",
       " (71.0),\n",
       " (69.0),\n",
       " (61.0),\n",
       " (67.0),\n",
       " (65.0),\n",
       " (72.0),\n",
       " (71.0),\n",
       " (73.0),\n",
       " (72.0),\n",
       " (77.0),\n",
       " (73.0),\n",
       " (67.0),\n",
       " (62.0),\n",
       " (64.0),\n",
       " (67.0),\n",
       " (66.0),\n",
       " (81.0),\n",
       " (69.0),\n",
       " (66.0),\n",
       " (67.0),\n",
       " (69.0),\n",
       " (66.0),\n",
       " (68.0),\n",
       " (65.0),\n",
       " (74.0),\n",
       " (69.0),\n",
       " (72.0),\n",
       " (73.0),\n",
       " (72.0),\n",
       " (71.0),\n",
       " (76.0),\n",
       " (77.0),\n",
       " (76.0),\n",
       " (74.0),\n",
       " (68.0),\n",
       " (73.0),\n",
       " (71.0),\n",
       " (74.0),\n",
       " (75.0),\n",
       " (70.0),\n",
       " (67.0),\n",
       " (71.0),\n",
       " (67.0),\n",
       " (74.0),\n",
       " (77.0),\n",
       " (78.0),\n",
       " (67.0),\n",
       " (70.0),\n",
       " (69.0),\n",
       " (69.0),\n",
       " (74.0),\n",
       " (78.0),\n",
       " (71.0),\n",
       " (67.0),\n",
       " (68.0),\n",
       " (67.0),\n",
       " (76.0),\n",
       " (69.0),\n",
       " (72.0),\n",
       " (76.0),\n",
       " (68.0),\n",
       " (72.0),\n",
       " (74.0),\n",
       " (70.0),\n",
       " (67.0),\n",
       " (72.0),\n",
       " (60.0),\n",
       " (65.0),\n",
       " (75.0),\n",
       " (70.0),\n",
       " (75.0),\n",
       " (70.0),\n",
       " (79.0),\n",
       " (75.0),\n",
       " (70.0),\n",
       " (67.0),\n",
       " (74.0),\n",
       " (70.0),\n",
       " (75.0),\n",
       " (76.0),\n",
       " (77.0),\n",
       " (74.0),\n",
       " (74.0),\n",
       " (74.0),\n",
       " (69.0),\n",
       " (68.0),\n",
       " (76.0),\n",
       " (74.0),\n",
       " (71.0),\n",
       " (71.0),\n",
       " (74.0),\n",
       " (74.0),\n",
       " (74.0),\n",
       " (74.0),\n",
       " (80.0),\n",
       " (74.0),\n",
       " (72.0),\n",
       " (75.0),\n",
       " (80.0),\n",
       " (76.0),\n",
       " (76.0),\n",
       " (77.0),\n",
       " (75.0),\n",
       " (75.0),\n",
       " (75.0),\n",
       " (75.0),\n",
       " (72.0),\n",
       " (74.0),\n",
       " (74.0),\n",
       " (74.0),\n",
       " (76.0),\n",
       " (74.0),\n",
       " (75.0),\n",
       " (73.0),\n",
       " (79.0),\n",
       " (75.0),\n",
       " (72.0),\n",
       " (72.0),\n",
       " (74.0),\n",
       " (72.0),\n",
       " (72.0),\n",
       " (77.0),\n",
       " (71.0),\n",
       " (73.0),\n",
       " (76.0),\n",
       " (77.0),\n",
       " (76.0),\n",
       " (76.0),\n",
       " (79.0),\n",
       " (81.0),\n",
       " (76.0),\n",
       " (78.0),\n",
       " (77.0),\n",
       " (74.0),\n",
       " (75.0),\n",
       " (78.0),\n",
       " (78.0),\n",
       " (69.0),\n",
       " (72.0),\n",
       " (74.0),\n",
       " (74.0),\n",
       " (76.0),\n",
       " (80.0),\n",
       " (80.0),\n",
       " (76.0),\n",
       " (76.0),\n",
       " (76.0),\n",
       " (77.0),\n",
       " (77.0),\n",
       " (77.0),\n",
       " (82.0),\n",
       " (75.0),\n",
       " (77.0),\n",
       " (75.0),\n",
       " (76.0),\n",
       " (81.0),\n",
       " (82.0),\n",
       " (81.0),\n",
       " (76.0),\n",
       " (77.0),\n",
       " (82.0),\n",
       " (83.0),\n",
       " (77.0),\n",
       " (77.0),\n",
       " (77.0),\n",
       " (76.0),\n",
       " (76.0),\n",
       " (79.0)]"
      ]
     },
     "execution_count": 58,
     "metadata": {},
     "output_type": "execute_result"
    }
   ],
   "source": [
    "past_year_temps"
   ]
  },
  {
   "cell_type": "markdown",
   "metadata": {},
   "source": [
    "## Bonus Challenge Assignment"
   ]
  },
  {
   "cell_type": "code",
   "execution_count": 21,
   "metadata": {},
   "outputs": [
    {
     "name": "stdout",
     "output_type": "stream",
     "text": [
      "[(62.0, 69.57142857142857, 74.0)]\n"
     ]
    }
   ],
   "source": [
    "# This function called `calc_temps` will accept start date and end date in the format '%Y-%m-%d' \n",
    "# and return the minimum, average, and maximum temperatures for that range of dates\n",
    "def calc_temps(start_date, end_date):\n",
    "    \"\"\"TMIN, TAVG, and TMAX for a list of dates.\n",
    "    \n",
    "    Args:\n",
    "        start_date (string): A date string in the format %Y-%m-%d\n",
    "        end_date (string): A date string in the format %Y-%m-%d\n",
    "        \n",
    "    Returns:\n",
    "        TMIN, TAVE, and TMAX\n",
    "    \"\"\"\n",
    "    \n",
    "    return session.query(func.min(Measurement.tobs), func.avg(Measurement.tobs), func.max(Measurement.tobs)).\\\n",
    "        filter(Measurement.date >= start_date).filter(Measurement.date <= end_date).all()\n",
    "\n",
    "# function usage example\n",
    "print(calc_temps('2012-02-28', '2012-03-05'))"
   ]
  },
  {
   "cell_type": "code",
   "execution_count": 22,
   "metadata": {},
   "outputs": [],
   "source": [
    "# Use your previous function `calc_temps` to calculate the tmin, tavg, and tmax \n",
    "# for your trip using the previous year's data for those same dates.\n"
   ]
  },
  {
   "cell_type": "code",
   "execution_count": 23,
   "metadata": {},
   "outputs": [],
   "source": [
    "# Plot the results from your previous query as a bar chart. \n",
    "# Use \"Trip Avg Temp\" as your Title\n",
    "# Use the average temperature for the y value\n",
    "# Use the peak-to-peak (tmax-tmin) value as the y error bar (yerr)\n"
   ]
  },
  {
   "cell_type": "code",
   "execution_count": 24,
   "metadata": {},
   "outputs": [],
   "source": [
    "# Calculate the total amount of rainfall per weather station for your trip dates using the previous year's matching dates.\n",
    "# Sort this in descending order by precipitation amount and list the station, name, latitude, longitude, and elevation\n",
    "\n"
   ]
  },
  {
   "cell_type": "code",
   "execution_count": 25,
   "metadata": {},
   "outputs": [
    {
     "data": {
      "text/plain": [
       "[(62.0, 69.15384615384616, 77.0)]"
      ]
     },
     "execution_count": 25,
     "metadata": {},
     "output_type": "execute_result"
    }
   ],
   "source": [
    "# Create a query that will calculate the daily normals \n",
    "# (i.e. the averages for tmin, tmax, and tavg for all historic data matching a specific month and day)\n",
    "\n",
    "def daily_normals(date):\n",
    "    \"\"\"Daily Normals.\n",
    "    \n",
    "    Args:\n",
    "        date (str): A date string in the format '%m-%d'\n",
    "        \n",
    "    Returns:\n",
    "        A list of tuples containing the daily normals, tmin, tavg, and tmax\n",
    "    \n",
    "    \"\"\"\n",
    "    \n",
    "    sel = [func.min(Measurement.tobs), func.avg(Measurement.tobs), func.max(Measurement.tobs)]\n",
    "    return session.query(*sel).filter(func.strftime(\"%m-%d\", Measurement.date) == date).all()\n",
    "    \n",
    "daily_normals(\"01-01\")"
   ]
  },
  {
   "cell_type": "code",
   "execution_count": 26,
   "metadata": {},
   "outputs": [],
   "source": [
    "# calculate the daily normals for your trip\n",
    "# push each tuple of calculations into a list called `normals`\n",
    "\n",
    "# Set the start and end date of the trip\n",
    "\n",
    "# Use the start and end date to create a range of dates\n",
    "\n",
    "# Stip off the year and save a list of %m-%d strings\n",
    "\n",
    "# Loop through the list of %m-%d strings and calculate the normals for each date\n"
   ]
  },
  {
   "cell_type": "code",
   "execution_count": 27,
   "metadata": {},
   "outputs": [],
   "source": [
    "# Load the previous query results into a Pandas DataFrame and add the `trip_dates` range as the `date` index\n"
   ]
  },
  {
   "cell_type": "code",
   "execution_count": 28,
   "metadata": {},
   "outputs": [],
   "source": [
    "# Plot the daily normals as an area plot with `stacked=False`\n"
   ]
  }
 ],
 "metadata": {
  "kernel_info": {
   "name": "python3"
  },
  "kernelspec": {
   "display_name": "Python 3",
   "language": "python",
   "name": "python3"
  },
  "language_info": {
   "codemirror_mode": {
    "name": "ipython",
    "version": 3
   },
   "file_extension": ".py",
   "mimetype": "text/x-python",
   "name": "python",
   "nbconvert_exporter": "python",
   "pygments_lexer": "ipython3",
   "version": "3.8.5"
  },
  "nteract": {
   "version": "0.12.3"
  },
  "varInspector": {
   "cols": {
    "lenName": 16,
    "lenType": 16,
    "lenVar": 40
   },
   "kernels_config": {
    "python": {
     "delete_cmd_postfix": "",
     "delete_cmd_prefix": "del ",
     "library": "var_list.py",
     "varRefreshCmd": "print(var_dic_list())"
    },
    "r": {
     "delete_cmd_postfix": ") ",
     "delete_cmd_prefix": "rm(",
     "library": "var_list.r",
     "varRefreshCmd": "cat(var_dic_list()) "
    }
   },
   "types_to_exclude": [
    "module",
    "function",
    "builtin_function_or_method",
    "instance",
    "_Feature"
   ],
   "window_display": false
  }
 },
 "nbformat": 4,
 "nbformat_minor": 2
}
